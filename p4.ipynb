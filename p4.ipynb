{
 "cells": [
  {
   "cell_type": "markdown",
   "id": "d045514a-519b-47bf-87f7-afde8dbc00ba",
   "metadata": {},
   "source": [
    "# Project 4 - Matt Sloan"
   ]
  },
  {
   "cell_type": "markdown",
   "id": "dbd48bd4-223f-4951-8642-fd3707a11b9d",
   "metadata": {},
   "source": [
    "## Introduce the problem\n",
    "Introduce the project. What is the problem you are trying to solve? What questions are you trying to find answer\n",
    "\n",
    "https://www.kaggle.com/datasets/cisautomotiveapi/large-car-dataset/download?datasetVersionNumber=4 (warning: large file)   \n",
    "from \n",
    "https://www.kaggle.com/datasets/cisautomotiveapi/large-car-dataset\n",
    "## Create ipynb template for website -darkmode html command, set low jpg, ignore warnings, default imports numpy pandas traintest"
   ]
  },
  {
   "cell_type": "markdown",
   "id": "5263b508-f6d4-4607-8ddf-c06b6d169ba9",
   "metadata": {},
   "source": [
    "I'm looking to see if there are specific specific features that tend to make vehicles more fuel efficient. We all know that having a smaller engine inherently means higher mpg's... or does it?\n",
    "What other factors tend to be at play here? Does one manufacturer tend to specialize in this? Bonus... what cars tend to have the best price/mpg ratio?"
   ]
  },
  {
   "cell_type": "markdown",
   "id": "79b89035-08dd-4fb2-b30e-9e1b35afa436",
   "metadata": {},
   "source": [
    "## What is clustering and how does it work?\n",
    "Explain what clustering is and how it works (e.g., k-means and/or agglomerative that we have gone over in class)"
   ]
  },
  {
   "cell_type": "markdown",
   "id": "e31e753d-ad01-408a-a102-cdcc776bf1ad",
   "metadata": {},
   "source": [
    "## TODO"
   ]
  },
  {
   "cell_type": "markdown",
   "id": "26c37a03-fbaf-438a-92fe-607f2575e77f",
   "metadata": {},
   "source": [
    "## Introduce the data\n",
    "Where did you find it? What is the data about (include links)? What are the features (with additional explanations if not already self-explanatory from the name itself)?"
   ]
  },
  {
   "cell_type": "markdown",
   "id": "adc11ef1-145b-45ee-bf87-46313cdcce15",
   "metadata": {},
   "source": [
    "I was looking for mpg data for vehicles that was also paired with msrp. I decided to use the [dataset from fueleconomy.gov](https://fueleconomy.gov/feg/download.shtml) for mpg values and [this... 5gb dataset from kaggle.](https://www.kaggle.com/datasets/cisautomotiveapi/large-car-dataset) for vehicle info.   \n",
    "It appears to be a sample of AutoDealerData.com of vehicle listings from Illinois from June 2018 until 2020.   \n",
    "I will probably remove duplicates in an attempt to save my RAM from annihilation.   \n",
    "This dataset has 156 features and ~5.7 million entries.\n",
    "The features that I am most interested in are:   \n",
    "* msrp\n",
    "* brandName\n",
    "* modelName\n",
    "* bodyClass\n",
    "* DisplacementCC\n",
    "* Doors\n",
    "* DriveType\n",
    "* EngineCylcinders\n",
    "* EngineManufacturer\n",
    "* MakeID\n",
    "* Manufacturer\n",
    "* Model\n",
    "* ModelYear\n",
    "* Turbo\n",
    "* TransissionSpeeds\n",
    "* TransmissionStyle   \n",
    "However I will be utilizing most of the remaining features as well.   \n",
    "---\n",
    "   \n",
    "And from the fueleconomy.gov dataset, I will be using:\n",
    "* comb08 - combined MPG from fueltype 1 (I will be assuming the primary fuel type is normally used)\n",
    "* make - manufacturer (division)\n",
    "* mfrCode - 3-character manufacturer code\n",
    "* model - model name (carline)\n",
    "* year - model year\n",
    "* displ - engine displacement in liters   \n",
    "   \n",
    "I intend to use these variables to accurately append the combined mpg to the vehicle"
   ]
  },
  {
   "cell_type": "markdown",
   "id": "1b302852-892f-49b3-bc50-91cce212ee6f",
   "metadata": {},
   "source": [
    "## Data Understanding/Visualization\n",
    "Use methods to try to further understand and visualize the data. Make sure to remember your initial problems/questions when completing this step.\n",
    "While exploring, does anything else stand out to you (perhaps any surprising insights?)\n",
    "\n",
    "**How does this step relate to your modeling?**"
   ]
  },
  {
   "cell_type": "markdown",
   "id": "66a07f77-e07b-4e12-85de-708dbf7db151",
   "metadata": {},
   "source": [
    "Let us start out by loading the file."
   ]
  },
  {
   "cell_type": "code",
   "execution_count": 1,
   "id": "5f546751-68ef-4463-a6ad-3fb5d069df1d",
   "metadata": {},
   "outputs": [],
   "source": [
    "import pandas as pd\n",
    "pd.set_option('display.max_columns', None)\n",
    "\n",
    "import numpy as np\n",
    "\n",
    "import matplotlib.pyplot as plt\n",
    "import seaborn as sns\n",
    "%config InlineBackend.figure_format ='jpg'\n",
    "sns.set(rc={\"figure.figsize\":(10, 10)})\n",
    "sns.set(rc={\"figure.dpi\": 75})\n",
    "\n",
    "from sklearn.model_selection import train_test_split\n",
    "from sklearn.ensemble import RandomForestClassifier\n",
    "from sklearn.cluster import KMeans\n",
    "from sklearn.preprocessing import StandardScaler"
   ]
  },
  {
   "cell_type": "code",
   "execution_count": 2,
   "id": "7388103f-59db-4b98-908c-f818e0df61c3",
   "metadata": {},
   "outputs": [
    {
     "name": "stderr",
     "output_type": "stream",
     "text": [
      "C:\\Users\\Matt\\mambaforge\\envs\\DataMining\\lib\\site-packages\\IPython\\core\\interactiveshell.py:3552: DtypeWarning: Columns (144) have mixed types.Specify dtype option on import or set low_memory=False.\n",
      "  exec(code_obj, self.user_global_ns, self.user_ns)\n",
      "C:\\Users\\Matt\\mambaforge\\envs\\DataMining\\lib\\site-packages\\IPython\\core\\interactiveshell.py:3552: DtypeWarning: Columns (73) have mixed types.Specify dtype option on import or set low_memory=False.\n",
      "  exec(code_obj, self.user_global_ns, self.user_ns)\n"
     ]
    }
   ],
   "source": [
    "# these are the columns we need to keep\n",
    "keeping_colms = ['brandName',\n",
    "            'modelName',\n",
    "            'vf_BodyClass',\n",
    "            'vf_FuelInjectionType',\n",
    "            'vf_Manufacturer',\n",
    "            'vf_PlantCity',\n",
    "            'vf_PlantCompanyName',\n",
    "            'vf_PlantCountry',\n",
    "            'vf_PlantState',\n",
    "            'vf_Series',\n",
    "            'vf_Series2',\n",
    "            'vf_TransmissionSpeeds',\n",
    "            'vf_TransmissionStyle',\n",
    "            'vf_Trim',\n",
    "            'vf_Trim2',\n",
    "            'vf_Turbo',\n",
    "            'msrp',\n",
    "            'askPrice',\n",
    "            'mileage',\n",
    "            'isNew',\n",
    "            'vf_CurbWeightLB',\n",
    "            'vf_DisplacementL',\n",
    "            'vf_Doors',\n",
    "            'vf_ManufacturerId',\n",
    "            'vf_ModelID',\n",
    "            'vf_ModelYear'\n",
    "       ]\n",
    "\n",
    "# main working df\n",
    "main_df = pd.DataFrame()\n",
    "\n",
    "# temp df for mpg data\n",
    "mpg_df = pd.DataFrame()\n",
    "\n",
    "# our current working df\n",
    "main_df = pd.read_csv('data/archive/CIS_Automotive_Kaggle_Sample.csv',\n",
    "                            engine='c',\n",
    "                            usecols=keeping_colms,\n",
    "                            #nrows=100000,\n",
    "                            header=0,\n",
    "                            dtype = {\n",
    "                                'msrp': pd.Int64Dtype(),\n",
    "                                'askPrice': pd.Int64Dtype(),\n",
    "                                'mileage' : pd.Int64Dtype(),\n",
    "                                'isNew' : bool,\n",
    "                                'vf_CurbWeightLB' : pd.Int64Dtype(),\n",
    "                                'vf_DisplacementL' : np.float32,\n",
    "                                'vf_ManufacturerId' : pd.Int64Dtype(),\n",
    "                                'vf_ModelID' : pd.Int64Dtype(),\n",
    "                                'vf_Doors' :  pd.Int64Dtype(),\n",
    "                                'vf_ModelYear' : pd.Int64Dtype(),\n",
    "                                    } # end read_csv dtype\n",
    "                     ) # end read_csv\n",
    "\n",
    "mpg_df = pd.read_csv('data/archive/vehicles.csv',\n",
    "                            usecols= ['comb08',\n",
    "                                  'make',\n",
    "                                  'mfrCode',\n",
    "                                  'model',\n",
    "                                  'year',\n",
    "                                  'displ'\n",
    "                                     ],\n",
    "                            header=0,\n",
    "                            dtype = {'comb08': np.float32,\n",
    "                                  'make': pd.CategoricalDtype(),\n",
    "                                  'year': pd.Int32Dtype(),\n",
    "                                  'displ': np.float32\n",
    "                                    } # end read_csv dtype\n",
    "                     ) # end read_csv"
   ]
  },
  {
   "cell_type": "markdown",
   "id": "3a671939-15c1-47b4-a78f-8daf16678861",
   "metadata": {},
   "source": [
    "I was having a lot of issues setting the dtype while reading the csv file because of NA values. Unlike Numpy, Pandas int32 dtype supports NA values!   \n",
    "\n",
    ">This is Matt from a few hours after trying this. I've decied that 3 million rows is plenty. Who could want like 64gb of RAM anways?   \n",
    ">   \n",
    ">...definitely not me"
   ]
  },
  {
   "cell_type": "code",
   "execution_count": 3,
   "id": "c342f529-5983-4e24-b81c-798562b34aa9",
   "metadata": {},
   "outputs": [
    {
     "data": {
      "text/html": [
       "<div>\n",
       "<style scoped>\n",
       "    .dataframe tbody tr th:only-of-type {\n",
       "        vertical-align: middle;\n",
       "    }\n",
       "\n",
       "    .dataframe tbody tr th {\n",
       "        vertical-align: top;\n",
       "    }\n",
       "\n",
       "    .dataframe thead th {\n",
       "        text-align: right;\n",
       "    }\n",
       "</style>\n",
       "<table border=\"1\" class=\"dataframe\">\n",
       "  <thead>\n",
       "    <tr style=\"text-align: right;\">\n",
       "      <th></th>\n",
       "      <th>msrp</th>\n",
       "      <th>askPrice</th>\n",
       "      <th>mileage</th>\n",
       "      <th>isNew</th>\n",
       "      <th>brandName</th>\n",
       "      <th>modelName</th>\n",
       "      <th>vf_BodyClass</th>\n",
       "      <th>vf_CurbWeightLB</th>\n",
       "      <th>vf_DisplacementL</th>\n",
       "      <th>vf_Doors</th>\n",
       "      <th>vf_FuelInjectionType</th>\n",
       "      <th>vf_Manufacturer</th>\n",
       "      <th>vf_ManufacturerId</th>\n",
       "      <th>vf_ModelID</th>\n",
       "      <th>vf_ModelYear</th>\n",
       "      <th>vf_PlantCity</th>\n",
       "      <th>vf_PlantCompanyName</th>\n",
       "      <th>vf_PlantCountry</th>\n",
       "      <th>vf_PlantState</th>\n",
       "      <th>vf_Series</th>\n",
       "      <th>vf_Series2</th>\n",
       "      <th>vf_TransmissionSpeeds</th>\n",
       "      <th>vf_TransmissionStyle</th>\n",
       "      <th>vf_Trim</th>\n",
       "      <th>vf_Trim2</th>\n",
       "      <th>vf_Turbo</th>\n",
       "    </tr>\n",
       "  </thead>\n",
       "  <tbody>\n",
       "    <tr>\n",
       "      <th>0</th>\n",
       "      <td>1498</td>\n",
       "      <td>1498</td>\n",
       "      <td>0</td>\n",
       "      <td>False</td>\n",
       "      <td>MITSUBISHI</td>\n",
       "      <td>Eclipse Spyder</td>\n",
       "      <td>Convertible/Cabriolet</td>\n",
       "      <td>&lt;NA&gt;</td>\n",
       "      <td>3.0</td>\n",
       "      <td>2</td>\n",
       "      <td>Multipoint Fuel Injection (MPFI)</td>\n",
       "      <td>MITSUBISHI MOTORS NORTH AMERICA</td>\n",
       "      <td>1054</td>\n",
       "      <td>2321</td>\n",
       "      <td>2002</td>\n",
       "      <td>BLOOMINGTON-NORMAL</td>\n",
       "      <td>NaN</td>\n",
       "      <td>UNITED STATES (USA)</td>\n",
       "      <td>ILLINOIS</td>\n",
       "      <td>SPORTS</td>\n",
       "      <td>NaN</td>\n",
       "      <td>NaN</td>\n",
       "      <td>NaN</td>\n",
       "      <td>NaN</td>\n",
       "      <td>NaN</td>\n",
       "      <td>NaN</td>\n",
       "    </tr>\n",
       "    <tr>\n",
       "      <th>1</th>\n",
       "      <td>10589</td>\n",
       "      <td>10589</td>\n",
       "      <td>0</td>\n",
       "      <td>False</td>\n",
       "      <td>NISSAN</td>\n",
       "      <td>Altima</td>\n",
       "      <td>Sedan/Saloon</td>\n",
       "      <td>&lt;NA&gt;</td>\n",
       "      <td>2.5</td>\n",
       "      <td>4</td>\n",
       "      <td>NaN</td>\n",
       "      <td>NISSAN NORTH AMERICA INC</td>\n",
       "      <td>997</td>\n",
       "      <td>1904</td>\n",
       "      <td>2016</td>\n",
       "      <td>CANTON</td>\n",
       "      <td>Nissan North America Inc.</td>\n",
       "      <td>UNITED STATES (USA)</td>\n",
       "      <td>MISSISSIPPI</td>\n",
       "      <td>NaN</td>\n",
       "      <td>NaN</td>\n",
       "      <td>NaN</td>\n",
       "      <td>NaN</td>\n",
       "      <td>NaN</td>\n",
       "      <td>NaN</td>\n",
       "      <td>NaN</td>\n",
       "    </tr>\n",
       "    <tr>\n",
       "      <th>2</th>\n",
       "      <td>11992</td>\n",
       "      <td>9940</td>\n",
       "      <td>0</td>\n",
       "      <td>False</td>\n",
       "      <td>FORD</td>\n",
       "      <td>Escape</td>\n",
       "      <td>Sport Utility Vehicle (SUV)/Multi-Purpose Vehi...</td>\n",
       "      <td>&lt;NA&gt;</td>\n",
       "      <td>1.6</td>\n",
       "      <td>4</td>\n",
       "      <td>Stoichiometric gasoline direct injection (SGDI)</td>\n",
       "      <td>FORD MOTOR COMPANY USA</td>\n",
       "      <td>976</td>\n",
       "      <td>1798</td>\n",
       "      <td>2014</td>\n",
       "      <td>LOUISVILLE</td>\n",
       "      <td>Louisville Assembly</td>\n",
       "      <td>UNITED STATES (USA)</td>\n",
       "      <td>KENTUCKY</td>\n",
       "      <td>SE</td>\n",
       "      <td>NaN</td>\n",
       "      <td>NaN</td>\n",
       "      <td>NaN</td>\n",
       "      <td>NaN</td>\n",
       "      <td>NaN</td>\n",
       "      <td>NaN</td>\n",
       "    </tr>\n",
       "    <tr>\n",
       "      <th>3</th>\n",
       "      <td>12387</td>\n",
       "      <td>12387</td>\n",
       "      <td>0</td>\n",
       "      <td>False</td>\n",
       "      <td>CHEVROLET</td>\n",
       "      <td>Cruze</td>\n",
       "      <td>Sedan/Saloon</td>\n",
       "      <td>&lt;NA&gt;</td>\n",
       "      <td>1.4</td>\n",
       "      <td>4</td>\n",
       "      <td>NaN</td>\n",
       "      <td>GENERAL MOTORS LLC</td>\n",
       "      <td>984</td>\n",
       "      <td>1832</td>\n",
       "      <td>2017</td>\n",
       "      <td>LORDSTOWN</td>\n",
       "      <td>GMNA</td>\n",
       "      <td>UNITED STATES (USA)</td>\n",
       "      <td>OHIO</td>\n",
       "      <td>Premier</td>\n",
       "      <td>NaN</td>\n",
       "      <td>NaN</td>\n",
       "      <td>Automatic</td>\n",
       "      <td>NaN</td>\n",
       "      <td>NaN</td>\n",
       "      <td>Yes</td>\n",
       "    </tr>\n",
       "    <tr>\n",
       "      <th>4</th>\n",
       "      <td>41659</td>\n",
       "      <td>41659</td>\n",
       "      <td>0</td>\n",
       "      <td>True</td>\n",
       "      <td>FORD</td>\n",
       "      <td>F-150</td>\n",
       "      <td>Pickup</td>\n",
       "      <td>&lt;NA&gt;</td>\n",
       "      <td>5.0</td>\n",
       "      <td>&lt;NA&gt;</td>\n",
       "      <td>NaN</td>\n",
       "      <td>FORD MOTOR COMPANY USA</td>\n",
       "      <td>976</td>\n",
       "      <td>1801</td>\n",
       "      <td>2019</td>\n",
       "      <td>DEARBORN</td>\n",
       "      <td>Dearborn</td>\n",
       "      <td>UNITED STATES (USA)</td>\n",
       "      <td>MICHIGAN</td>\n",
       "      <td>NaN</td>\n",
       "      <td>NaN</td>\n",
       "      <td>NaN</td>\n",
       "      <td>Automatic</td>\n",
       "      <td>NaN</td>\n",
       "      <td>NaN</td>\n",
       "      <td>NaN</td>\n",
       "    </tr>\n",
       "  </tbody>\n",
       "</table>\n",
       "</div>"
      ],
      "text/plain": [
       "    msrp  askPrice  mileage  isNew   brandName       modelName  \\\n",
       "0   1498      1498        0  False  MITSUBISHI  Eclipse Spyder   \n",
       "1  10589     10589        0  False      NISSAN          Altima   \n",
       "2  11992      9940        0  False        FORD          Escape   \n",
       "3  12387     12387        0  False   CHEVROLET           Cruze   \n",
       "4  41659     41659        0   True        FORD           F-150   \n",
       "\n",
       "                                        vf_BodyClass  vf_CurbWeightLB  \\\n",
       "0                              Convertible/Cabriolet             <NA>   \n",
       "1                                       Sedan/Saloon             <NA>   \n",
       "2  Sport Utility Vehicle (SUV)/Multi-Purpose Vehi...             <NA>   \n",
       "3                                       Sedan/Saloon             <NA>   \n",
       "4                                             Pickup             <NA>   \n",
       "\n",
       "   vf_DisplacementL  vf_Doors  \\\n",
       "0               3.0         2   \n",
       "1               2.5         4   \n",
       "2               1.6         4   \n",
       "3               1.4         4   \n",
       "4               5.0      <NA>   \n",
       "\n",
       "                              vf_FuelInjectionType  \\\n",
       "0                 Multipoint Fuel Injection (MPFI)   \n",
       "1                                              NaN   \n",
       "2  Stoichiometric gasoline direct injection (SGDI)   \n",
       "3                                              NaN   \n",
       "4                                              NaN   \n",
       "\n",
       "                   vf_Manufacturer  vf_ManufacturerId  vf_ModelID  \\\n",
       "0  MITSUBISHI MOTORS NORTH AMERICA               1054        2321   \n",
       "1         NISSAN NORTH AMERICA INC                997        1904   \n",
       "2           FORD MOTOR COMPANY USA                976        1798   \n",
       "3               GENERAL MOTORS LLC                984        1832   \n",
       "4           FORD MOTOR COMPANY USA                976        1801   \n",
       "\n",
       "   vf_ModelYear        vf_PlantCity        vf_PlantCompanyName  \\\n",
       "0          2002  BLOOMINGTON-NORMAL                        NaN   \n",
       "1          2016              CANTON  Nissan North America Inc.   \n",
       "2          2014          LOUISVILLE       Louisville Assembly    \n",
       "3          2017           LORDSTOWN                       GMNA   \n",
       "4          2019            DEARBORN                   Dearborn   \n",
       "\n",
       "       vf_PlantCountry vf_PlantState vf_Series vf_Series2  \\\n",
       "0  UNITED STATES (USA)      ILLINOIS    SPORTS        NaN   \n",
       "1  UNITED STATES (USA)   MISSISSIPPI       NaN        NaN   \n",
       "2  UNITED STATES (USA)      KENTUCKY        SE        NaN   \n",
       "3  UNITED STATES (USA)          OHIO   Premier        NaN   \n",
       "4  UNITED STATES (USA)      MICHIGAN       NaN        NaN   \n",
       "\n",
       "   vf_TransmissionSpeeds vf_TransmissionStyle vf_Trim vf_Trim2 vf_Turbo  \n",
       "0                    NaN                  NaN     NaN      NaN      NaN  \n",
       "1                    NaN                  NaN     NaN      NaN      NaN  \n",
       "2                    NaN                  NaN     NaN      NaN      NaN  \n",
       "3                    NaN            Automatic     NaN      NaN      Yes  \n",
       "4                    NaN            Automatic     NaN      NaN      NaN  "
      ]
     },
     "execution_count": 3,
     "metadata": {},
     "output_type": "execute_result"
    }
   ],
   "source": [
    "main_df.head()"
   ]
  },
  {
   "cell_type": "code",
   "execution_count": 4,
   "id": "e6148886-228e-45c2-97ef-9d39bedf7da8",
   "metadata": {},
   "outputs": [
    {
     "data": {
      "text/html": [
       "<div>\n",
       "<style scoped>\n",
       "    .dataframe tbody tr th:only-of-type {\n",
       "        vertical-align: middle;\n",
       "    }\n",
       "\n",
       "    .dataframe tbody tr th {\n",
       "        vertical-align: top;\n",
       "    }\n",
       "\n",
       "    .dataframe thead th {\n",
       "        text-align: right;\n",
       "    }\n",
       "</style>\n",
       "<table border=\"1\" class=\"dataframe\">\n",
       "  <thead>\n",
       "    <tr style=\"text-align: right;\">\n",
       "      <th></th>\n",
       "      <th>comb08</th>\n",
       "      <th>displ</th>\n",
       "      <th>make</th>\n",
       "      <th>model</th>\n",
       "      <th>year</th>\n",
       "      <th>mfrCode</th>\n",
       "    </tr>\n",
       "  </thead>\n",
       "  <tbody>\n",
       "    <tr>\n",
       "      <th>0</th>\n",
       "      <td>21.0</td>\n",
       "      <td>2.0</td>\n",
       "      <td>Alfa Romeo</td>\n",
       "      <td>Spider Veloce 2000</td>\n",
       "      <td>1985</td>\n",
       "      <td>NaN</td>\n",
       "    </tr>\n",
       "    <tr>\n",
       "      <th>1</th>\n",
       "      <td>11.0</td>\n",
       "      <td>4.9</td>\n",
       "      <td>Ferrari</td>\n",
       "      <td>Testarossa</td>\n",
       "      <td>1985</td>\n",
       "      <td>NaN</td>\n",
       "    </tr>\n",
       "    <tr>\n",
       "      <th>2</th>\n",
       "      <td>27.0</td>\n",
       "      <td>2.2</td>\n",
       "      <td>Dodge</td>\n",
       "      <td>Charger</td>\n",
       "      <td>1985</td>\n",
       "      <td>NaN</td>\n",
       "    </tr>\n",
       "    <tr>\n",
       "      <th>3</th>\n",
       "      <td>11.0</td>\n",
       "      <td>5.2</td>\n",
       "      <td>Dodge</td>\n",
       "      <td>B150/B250 Wagon 2WD</td>\n",
       "      <td>1985</td>\n",
       "      <td>NaN</td>\n",
       "    </tr>\n",
       "    <tr>\n",
       "      <th>4</th>\n",
       "      <td>19.0</td>\n",
       "      <td>2.2</td>\n",
       "      <td>Subaru</td>\n",
       "      <td>Legacy AWD Turbo</td>\n",
       "      <td>1993</td>\n",
       "      <td>NaN</td>\n",
       "    </tr>\n",
       "  </tbody>\n",
       "</table>\n",
       "</div>"
      ],
      "text/plain": [
       "   comb08  displ        make                model  year mfrCode\n",
       "0    21.0    2.0  Alfa Romeo   Spider Veloce 2000  1985     NaN\n",
       "1    11.0    4.9     Ferrari           Testarossa  1985     NaN\n",
       "2    27.0    2.2       Dodge              Charger  1985     NaN\n",
       "3    11.0    5.2       Dodge  B150/B250 Wagon 2WD  1985     NaN\n",
       "4    19.0    2.2      Subaru     Legacy AWD Turbo  1993     NaN"
      ]
     },
     "execution_count": 4,
     "metadata": {},
     "output_type": "execute_result"
    }
   ],
   "source": [
    "mpg_df.head()"
   ]
  },
  {
   "cell_type": "code",
   "execution_count": 5,
   "id": "6f8dc0c1-0dfe-47de-8db2-ebf04f7ec695",
   "metadata": {},
   "outputs": [
    {
     "data": {
      "text/html": [
       "<div>\n",
       "<style scoped>\n",
       "    .dataframe tbody tr th:only-of-type {\n",
       "        vertical-align: middle;\n",
       "    }\n",
       "\n",
       "    .dataframe tbody tr th {\n",
       "        vertical-align: top;\n",
       "    }\n",
       "\n",
       "    .dataframe thead th {\n",
       "        text-align: right;\n",
       "    }\n",
       "</style>\n",
       "<table border=\"1\" class=\"dataframe\">\n",
       "  <thead>\n",
       "    <tr style=\"text-align: right;\">\n",
       "      <th></th>\n",
       "      <th>msrp</th>\n",
       "      <th>askPrice</th>\n",
       "      <th>mileage</th>\n",
       "      <th>vf_CurbWeightLB</th>\n",
       "      <th>vf_DisplacementL</th>\n",
       "      <th>vf_Doors</th>\n",
       "      <th>vf_ManufacturerId</th>\n",
       "      <th>vf_ModelID</th>\n",
       "      <th>vf_ModelYear</th>\n",
       "      <th>vf_TransmissionSpeeds</th>\n",
       "    </tr>\n",
       "  </thead>\n",
       "  <tbody>\n",
       "    <tr>\n",
       "      <th>count</th>\n",
       "      <td>5.695015e+06</td>\n",
       "      <td>5.695015e+06</td>\n",
       "      <td>5.695015e+06</td>\n",
       "      <td>117190.000000</td>\n",
       "      <td>5.648866e+06</td>\n",
       "      <td>4.914214e+06</td>\n",
       "      <td>5.693755e+06</td>\n",
       "      <td>5.689172e+06</td>\n",
       "      <td>5.693733e+06</td>\n",
       "      <td>1.293522e+06</td>\n",
       "    </tr>\n",
       "    <tr>\n",
       "      <th>mean</th>\n",
       "      <td>7.445697e+05</td>\n",
       "      <td>1.869206e+05</td>\n",
       "      <td>2.241465e+04</td>\n",
       "      <td>4004.123679</td>\n",
       "      <td>3.314681e+00</td>\n",
       "      <td>4.021807e+00</td>\n",
       "      <td>1.207672e+03</td>\n",
       "      <td>3.716958e+03</td>\n",
       "      <td>2.015305e+03</td>\n",
       "      <td>6.894028e+00</td>\n",
       "    </tr>\n",
       "    <tr>\n",
       "      <th>std</th>\n",
       "      <td>3.926443e+07</td>\n",
       "      <td>1.876752e+07</td>\n",
       "      <td>9.010528e+05</td>\n",
       "      <td>584.108085</td>\n",
       "      <td>6.418559e+00</td>\n",
       "      <td>5.773043e-01</td>\n",
       "      <td>1.658599e+03</td>\n",
       "      <td>4.513855e+03</td>\n",
       "      <td>4.613182e+00</td>\n",
       "      <td>1.390092e+00</td>\n",
       "    </tr>\n",
       "    <tr>\n",
       "      <th>min</th>\n",
       "      <td>0.000000e+00</td>\n",
       "      <td>0.000000e+00</td>\n",
       "      <td>0.000000e+00</td>\n",
       "      <td>2335.000000</td>\n",
       "      <td>0.000000e+00</td>\n",
       "      <td>2.000000e+00</td>\n",
       "      <td>9.550000e+02</td>\n",
       "      <td>1.684000e+03</td>\n",
       "      <td>1.980000e+03</td>\n",
       "      <td>1.000000e+00</td>\n",
       "    </tr>\n",
       "    <tr>\n",
       "      <th>25%</th>\n",
       "      <td>1.139600e+04</td>\n",
       "      <td>1.077700e+04</td>\n",
       "      <td>0.000000e+00</td>\n",
       "      <td>3485.000000</td>\n",
       "      <td>2.000000e+00</td>\n",
       "      <td>4.000000e+00</td>\n",
       "      <td>9.840000e+02</td>\n",
       "      <td>1.847000e+03</td>\n",
       "      <td>2.014000e+03</td>\n",
       "      <td>6.000000e+00</td>\n",
       "    </tr>\n",
       "    <tr>\n",
       "      <th>50%</th>\n",
       "      <td>2.255800e+04</td>\n",
       "      <td>2.056600e+04</td>\n",
       "      <td>0.000000e+00</td>\n",
       "      <td>4025.000000</td>\n",
       "      <td>2.500000e+00</td>\n",
       "      <td>4.000000e+00</td>\n",
       "      <td>9.930000e+02</td>\n",
       "      <td>1.945000e+03</td>\n",
       "      <td>2.017000e+03</td>\n",
       "      <td>6.000000e+00</td>\n",
       "    </tr>\n",
       "    <tr>\n",
       "      <th>75%</th>\n",
       "      <td>3.399500e+04</td>\n",
       "      <td>3.194500e+04</td>\n",
       "      <td>2.616100e+04</td>\n",
       "      <td>4330.000000</td>\n",
       "      <td>3.600000e+00</td>\n",
       "      <td>4.000000e+00</td>\n",
       "      <td>1.034000e+03</td>\n",
       "      <td>2.735000e+03</td>\n",
       "      <td>2.019000e+03</td>\n",
       "      <td>8.000000e+00</td>\n",
       "    </tr>\n",
       "    <tr>\n",
       "      <th>max</th>\n",
       "      <td>2.147484e+09</td>\n",
       "      <td>2.147484e+09</td>\n",
       "      <td>2.147484e+09</td>\n",
       "      <td>5815.000000</td>\n",
       "      <td>2.000000e+02</td>\n",
       "      <td>6.000000e+00</td>\n",
       "      <td>1.944800e+04</td>\n",
       "      <td>2.789700e+04</td>\n",
       "      <td>2.021000e+03</td>\n",
       "      <td>1.000000e+01</td>\n",
       "    </tr>\n",
       "  </tbody>\n",
       "</table>\n",
       "</div>"
      ],
      "text/plain": [
       "               msrp      askPrice       mileage  vf_CurbWeightLB  \\\n",
       "count  5.695015e+06  5.695015e+06  5.695015e+06    117190.000000   \n",
       "mean   7.445697e+05  1.869206e+05  2.241465e+04      4004.123679   \n",
       "std    3.926443e+07  1.876752e+07  9.010528e+05       584.108085   \n",
       "min    0.000000e+00  0.000000e+00  0.000000e+00      2335.000000   \n",
       "25%    1.139600e+04  1.077700e+04  0.000000e+00      3485.000000   \n",
       "50%    2.255800e+04  2.056600e+04  0.000000e+00      4025.000000   \n",
       "75%    3.399500e+04  3.194500e+04  2.616100e+04      4330.000000   \n",
       "max    2.147484e+09  2.147484e+09  2.147484e+09      5815.000000   \n",
       "\n",
       "       vf_DisplacementL      vf_Doors  vf_ManufacturerId    vf_ModelID  \\\n",
       "count      5.648866e+06  4.914214e+06       5.693755e+06  5.689172e+06   \n",
       "mean       3.314681e+00  4.021807e+00       1.207672e+03  3.716958e+03   \n",
       "std        6.418559e+00  5.773043e-01       1.658599e+03  4.513855e+03   \n",
       "min        0.000000e+00  2.000000e+00       9.550000e+02  1.684000e+03   \n",
       "25%        2.000000e+00  4.000000e+00       9.840000e+02  1.847000e+03   \n",
       "50%        2.500000e+00  4.000000e+00       9.930000e+02  1.945000e+03   \n",
       "75%        3.600000e+00  4.000000e+00       1.034000e+03  2.735000e+03   \n",
       "max        2.000000e+02  6.000000e+00       1.944800e+04  2.789700e+04   \n",
       "\n",
       "       vf_ModelYear  vf_TransmissionSpeeds  \n",
       "count  5.693733e+06           1.293522e+06  \n",
       "mean   2.015305e+03           6.894028e+00  \n",
       "std    4.613182e+00           1.390092e+00  \n",
       "min    1.980000e+03           1.000000e+00  \n",
       "25%    2.014000e+03           6.000000e+00  \n",
       "50%    2.017000e+03           6.000000e+00  \n",
       "75%    2.019000e+03           8.000000e+00  \n",
       "max    2.021000e+03           1.000000e+01  "
      ]
     },
     "execution_count": 5,
     "metadata": {},
     "output_type": "execute_result"
    }
   ],
   "source": [
    "main_df.describe()"
   ]
  },
  {
   "cell_type": "code",
   "execution_count": 6,
   "id": "9d97385c-32f2-4b3e-9e18-1209a8b0c04c",
   "metadata": {},
   "outputs": [
    {
     "data": {
      "text/html": [
       "<div>\n",
       "<style scoped>\n",
       "    .dataframe tbody tr th:only-of-type {\n",
       "        vertical-align: middle;\n",
       "    }\n",
       "\n",
       "    .dataframe tbody tr th {\n",
       "        vertical-align: top;\n",
       "    }\n",
       "\n",
       "    .dataframe thead th {\n",
       "        text-align: right;\n",
       "    }\n",
       "</style>\n",
       "<table border=\"1\" class=\"dataframe\">\n",
       "  <thead>\n",
       "    <tr style=\"text-align: right;\">\n",
       "      <th></th>\n",
       "      <th>comb08</th>\n",
       "      <th>displ</th>\n",
       "      <th>year</th>\n",
       "    </tr>\n",
       "  </thead>\n",
       "  <tbody>\n",
       "    <tr>\n",
       "      <th>count</th>\n",
       "      <td>45777.000000</td>\n",
       "      <td>45313.000000</td>\n",
       "      <td>45777.000000</td>\n",
       "    </tr>\n",
       "    <tr>\n",
       "      <th>mean</th>\n",
       "      <td>21.290932</td>\n",
       "      <td>3.280372</td>\n",
       "      <td>2003.558031</td>\n",
       "    </tr>\n",
       "    <tr>\n",
       "      <th>std</th>\n",
       "      <td>9.637799</td>\n",
       "      <td>1.356619</td>\n",
       "      <td>12.165146</td>\n",
       "    </tr>\n",
       "    <tr>\n",
       "      <th>min</th>\n",
       "      <td>7.000000</td>\n",
       "      <td>0.000000</td>\n",
       "      <td>1984.000000</td>\n",
       "    </tr>\n",
       "    <tr>\n",
       "      <th>25%</th>\n",
       "      <td>17.000000</td>\n",
       "      <td>2.200000</td>\n",
       "      <td>1992.000000</td>\n",
       "    </tr>\n",
       "    <tr>\n",
       "      <th>50%</th>\n",
       "      <td>20.000000</td>\n",
       "      <td>3.000000</td>\n",
       "      <td>2005.000000</td>\n",
       "    </tr>\n",
       "    <tr>\n",
       "      <th>75%</th>\n",
       "      <td>23.000000</td>\n",
       "      <td>4.200000</td>\n",
       "      <td>2014.000000</td>\n",
       "    </tr>\n",
       "    <tr>\n",
       "      <th>max</th>\n",
       "      <td>142.000000</td>\n",
       "      <td>8.400000</td>\n",
       "      <td>2023.000000</td>\n",
       "    </tr>\n",
       "  </tbody>\n",
       "</table>\n",
       "</div>"
      ],
      "text/plain": [
       "             comb08         displ          year\n",
       "count  45777.000000  45313.000000  45777.000000\n",
       "mean      21.290932      3.280372   2003.558031\n",
       "std        9.637799      1.356619     12.165146\n",
       "min        7.000000      0.000000   1984.000000\n",
       "25%       17.000000      2.200000   1992.000000\n",
       "50%       20.000000      3.000000   2005.000000\n",
       "75%       23.000000      4.200000   2014.000000\n",
       "max      142.000000      8.400000   2023.000000"
      ]
     },
     "execution_count": 6,
     "metadata": {},
     "output_type": "execute_result"
    }
   ],
   "source": [
    "mpg_df.describe()"
   ]
  },
  {
   "cell_type": "markdown",
   "id": "985f502a-9baf-4096-8580-4af86836022e",
   "metadata": {},
   "source": [
    "Nulls?"
   ]
  },
  {
   "cell_type": "code",
   "execution_count": 7,
   "id": "da0934bb-1e51-4b4f-aa53-3e681202452d",
   "metadata": {},
   "outputs": [
    {
     "name": "stdout",
     "output_type": "stream",
     "text": [
      "---------------- main df ----------------\n",
      "0.02% -----1260 null values in brandName\n",
      "0.1% -----5843 null values in modelName\n",
      "0.2% -----11559 null values in vf_BodyClass\n",
      "97.94% -----5577825 null values in vf_CurbWeightLB\n",
      "0.81% -----46149 null values in vf_DisplacementL\n",
      "13.71% -----780801 null values in vf_Doors\n",
      "75.4% -----4293878 null values in vf_FuelInjectionType\n",
      "0.02% -----1260 null values in vf_Manufacturer\n",
      "0.02% -----1260 null values in vf_ManufacturerId\n",
      "0.1% -----5843 null values in vf_ModelID\n",
      "0.02% -----1282 null values in vf_ModelYear\n",
      "10.79% -----614448 null values in vf_PlantCity\n",
      "27.54% -----1568615 null values in vf_PlantCompanyName\n",
      "3.13% -----178494 null values in vf_PlantCountry\n",
      "26.74% -----1522665 null values in vf_PlantState\n",
      "24.66% -----1404200 null values in vf_Series\n",
      "95.34% -----5429563 null values in vf_Series2\n",
      "77.29% -----4401493 null values in vf_TransmissionSpeeds\n",
      "66.21% -----3770877 null values in vf_TransmissionStyle\n",
      "60.5% -----3445574 null values in vf_Trim\n",
      "97.91% -----5575717 null values in vf_Trim2\n",
      "78.82% -----4488758 null values in vf_Turbo\n",
      "\n",
      "---------------- mpg df ----------------\n",
      "1.01% -----464 null values in displ\n",
      "67.3% -----30808 null values in mfrCode\n"
     ]
    }
   ],
   "source": [
    "print(\"---------------- main df ----------------\")\n",
    "\n",
    "for col in main_df.columns:\n",
    "    if main_df[col].isnull().sum() > 0:\n",
    "        print(f'{round(((main_df[col].isnull().sum()/main_df.shape[0])*100),2)}% -----{main_df[col].isnull().sum()} null values in {col}')\n",
    "        \n",
    "print(\"\\n---------------- mpg df ----------------\")\n",
    "\n",
    "for col in mpg_df.columns:\n",
    "    if mpg_df[col].isnull().sum() > 0:\n",
    "        print(f'{round(((mpg_df[col].isnull().sum()/mpg_df.shape[0])*100),2)}% -----{mpg_df[col].isnull().sum()} null values in {col}')"
   ]
  },
  {
   "cell_type": "markdown",
   "id": "3ed74187-273e-416b-824b-49a3584ae301",
   "metadata": {},
   "source": [
    "Collinearity?"
   ]
  },
  {
   "cell_type": "code",
   "execution_count": 8,
   "id": "bb94b0ec-db15-4152-a4d8-51d545162c9b",
   "metadata": {},
   "outputs": [
    {
     "data": {
      "text/plain": [
       "<AxesSubplot:>"
      ]
     },
     "execution_count": 8,
     "metadata": {},
     "output_type": "execute_result"
    },
    {
     "data": {
      "image/jpeg": "[encoded data removed]",
      "text/plain": [
       "<Figure size 750x750 with 2 Axes>"
      ]
     },
     "metadata": {},
     "output_type": "display_data"
    }
   ],
   "source": [
    "sns.heatmap(main_df.corr(), cmap=\"YlGnBu\", annot=True, fmt='.1g')"
   ]
  },
  {
   "cell_type": "code",
   "execution_count": 9,
   "id": "cbbc0fcc-28e5-44c7-88cd-1138a2743875",
   "metadata": {},
   "outputs": [
    {
     "data": {
      "text/plain": [
       "<AxesSubplot:>"
      ]
     },
     "execution_count": 9,
     "metadata": {},
     "output_type": "execute_result"
    },
    {
     "data": {
      "image/jpeg": "[encoded data removed]",
      "text/plain": [
       "<Figure size 750x750 with 2 Axes>"
      ]
     },
     "metadata": {},
     "output_type": "display_data"
    }
   ],
   "source": [
    "sns.heatmap(mpg_df.corr(), cmap=\"YlGnBu\", annot=True, fmt='.1g')"
   ]
  },
  {
   "cell_type": "markdown",
   "id": "24a82357-efa7-4daa-a8cd-b4d3dad53214",
   "metadata": {},
   "source": [
    "## Pre-processing the data\n",
    "What pre-processing steps do you follow? Explain why you do each pre-processing step."
   ]
  },
  {
   "cell_type": "markdown",
   "id": "ae58c185-0724-4bf6-aea4-ab8c9d04809d",
   "metadata": {},
   "source": [
    "First I want to remove colms with a large number of missing values. Let's remove columns missing 10% or more."
   ]
  },
  {
   "cell_type": "code",
   "execution_count": 10,
   "id": "64036c62-2788-49c6-a1c7-7c454d77f039",
   "metadata": {},
   "outputs": [
    {
     "name": "stdout",
     "output_type": "stream",
     "text": [
      "---------------- main df ----------------\n",
      "0.0% -----0 null values in msrp\n",
      "0.0% -----0 null values in askPrice\n",
      "0.0% -----0 null values in mileage\n",
      "0.0% -----0 null values in isNew\n",
      "0.02% -----1260 null values in brandName\n",
      "0.1% -----5843 null values in modelName\n",
      "0.2% -----11559 null values in vf_BodyClass\n",
      "0.81% -----46149 null values in vf_DisplacementL\n",
      "0.02% -----1260 null values in vf_Manufacturer\n",
      "0.02% -----1260 null values in vf_ManufacturerId\n",
      "0.1% -----5843 null values in vf_ModelID\n",
      "0.02% -----1282 null values in vf_ModelYear\n",
      "3.13% -----178494 null values in vf_PlantCountry\n",
      "\n",
      "---------------- mpg df ----------------\n",
      "0.0% -----0 null values in comb08\n",
      "1.01% -----464 null values in displ\n",
      "0.0% -----0 null values in make\n",
      "0.0% -----0 null values in model\n",
      "0.0% -----0 null values in year\n"
     ]
    }
   ],
   "source": [
    "print(\"---------------- main df ----------------\")\n",
    "\n",
    "for col in main_df.columns:\n",
    "    if main_df[col].isnull().sum()/main_df.shape[0] > 0.10:\n",
    "        del main_df[col]\n",
    "    else:\n",
    "        print(f'{round(((main_df[col].isnull().sum()/main_df.shape[0])*100),2)}% -----{main_df[col].isnull().sum()} null values in {col}')\n",
    "        \n",
    "print(\"\\n---------------- mpg df ----------------\")\n",
    "\n",
    "for col in mpg_df.columns:\n",
    "    if mpg_df[col].isnull().sum()/mpg_df.shape[0] > 0.10:\n",
    "        del mpg_df[col]\n",
    "    else:\n",
    "        print(f'{round(((mpg_df[col].isnull().sum()/mpg_df.shape[0])*100),2)}% -----{mpg_df[col].isnull().sum()} null values in {col}')"
   ]
  },
  {
   "cell_type": "markdown",
   "id": "298d1da7-0c4f-4214-9c51-fc5591bce6d4",
   "metadata": {},
   "source": [
    "Now we'll rid of rows with missing values"
   ]
  },
  {
   "cell_type": "code",
   "execution_count": 11,
   "id": "7a8169b7-f2ad-476a-bd44-7ff115e104b6",
   "metadata": {},
   "outputs": [],
   "source": [
    "main_original_size = main_df.shape\n",
    "mpg_original_size = mpg_df.shape\n",
    "\n",
    "\n",
    "main_df = main_df.dropna()\n",
    "mpg_df = mpg_df.dropna()"
   ]
  },
  {
   "cell_type": "code",
   "execution_count": 12,
   "id": "d84cb07c-bd8b-485e-9ec0-b33113eaa9d2",
   "metadata": {},
   "outputs": [
    {
     "name": "stdout",
     "output_type": "stream",
     "text": [
      "main df shape: (5466424, 13) and main df is now 96.0% of the original size ((5695015, 13)).\n",
      "mpg df shape: (45313, 5) and mpg df is now 99.0% of the original size ((45777, 5)).\n"
     ]
    }
   ],
   "source": [
    "print(f'main df shape: {main_df.shape} and main df is now {round(main_df.shape[0]/main_original_size[0],3)*100}% of the original size ({main_original_size}).')\n",
    "print(f'mpg df shape: {mpg_df.shape} and mpg df is now {round(mpg_df.shape[0]/mpg_original_size[0],3)*100}% of the original size ({mpg_original_size}).')"
   ]
  },
  {
   "cell_type": "markdown",
   "id": "65096bc2-9ead-487d-9254-4bfbfec5224c",
   "metadata": {},
   "source": [
    "Now since our goal is to classify vehicle features that are associated with higher mpg values, I will bin mpg into sets of 5 with higher values being higher mpg values"
   ]
  },
  {
   "cell_type": "code",
   "execution_count": 13,
   "id": "397e6a23-36c6-4166-bb69-c7ad3e4e0e6b",
   "metadata": {},
   "outputs": [],
   "source": [
    "mpg_df['binned_mpg'] = mpg_df['comb08'].apply(lambda x: (5 * round(x/5))/5).astype(np.int32)"
   ]
  },
  {
   "cell_type": "markdown",
   "id": "dc9b326b-28e8-49a5-99e3-a27c4f56e1af",
   "metadata": {},
   "source": [
    "Time to add our mpg values to our main df.   \n",
    "1) make sure brand name/manufacterur and model name are same case so we can match them\n",
    "2) rename our mpg_df columns so that we can inner join"
   ]
  },
  {
   "cell_type": "code",
   "execution_count": 14,
   "id": "94598b61-98b6-4ec9-8441-5cb1a2313e27",
   "metadata": {},
   "outputs": [],
   "source": [
    "# set these column names to lowercase so it's easier to match (for me)\n",
    "main_df['brandName'] = main_df['brandName'].str.lower()\n",
    "main_df['modelName'] = main_df['modelName'].str.lower()\n",
    "\n",
    "mpg_df['make'] = mpg_df['make'].str.lower()\n",
    "mpg_df['model'] = mpg_df['model'].str.lower()"
   ]
  },
  {
   "cell_type": "code",
   "execution_count": 15,
   "id": "2d67dfe2-8405-4b69-b6eb-52537abc50e0",
   "metadata": {},
   "outputs": [],
   "source": [
    "# rename the columns in the other df so they can match with the main df\n",
    "mpg_df.rename(columns = {'year': 'vf_ModelYear', 'model': 'modelName', 'make': 'brandName', 'displ': 'vf_DisplacementL'}, inplace = True)"
   ]
  },
  {
   "cell_type": "code",
   "execution_count": 16,
   "id": "5d75b75a-7f7c-4f9b-9518-1626a747c280",
   "metadata": {},
   "outputs": [
    {
     "data": {
      "text/plain": [
       "(5466424, 13)"
      ]
     },
     "execution_count": 16,
     "metadata": {},
     "output_type": "execute_result"
    }
   ],
   "source": [
    "# shape of our old df?\n",
    "main_df.shape"
   ]
  },
  {
   "cell_type": "code",
   "execution_count": 17,
   "id": "f785ead8-d3a5-4d5b-9023-09667d9f8e3d",
   "metadata": {},
   "outputs": [],
   "source": [
    "# inner join (merge) by default - our matching columns will be our 'lock and key' to make sure our 'other' column(s) get combined\n",
    "comb_df = main_df.merge(mpg_df)"
   ]
  },
  {
   "cell_type": "code",
   "execution_count": 18,
   "id": "66c0514f-d0d4-43be-a113-ddbf04133c34",
   "metadata": {},
   "outputs": [],
   "source": [
    "del main_df\n",
    "del mpg_df"
   ]
  },
  {
   "cell_type": "code",
   "execution_count": 19,
   "id": "d65009d9-ccd3-43d3-87ed-eb2f593d6793",
   "metadata": {},
   "outputs": [
    {
     "data": {
      "text/plain": [
       "(2799680, 15)"
      ]
     },
     "execution_count": 19,
     "metadata": {},
     "output_type": "execute_result"
    }
   ],
   "source": [
    "# shape of our new df?\n",
    "comb_df.shape"
   ]
  },
  {
   "cell_type": "code",
   "execution_count": 20,
   "id": "f3eacf92-98cf-4819-ba7c-21c9d9aa8b0b",
   "metadata": {},
   "outputs": [
    {
     "data": {
      "text/html": [
       "<div>\n",
       "<style scoped>\n",
       "    .dataframe tbody tr th:only-of-type {\n",
       "        vertical-align: middle;\n",
       "    }\n",
       "\n",
       "    .dataframe tbody tr th {\n",
       "        vertical-align: top;\n",
       "    }\n",
       "\n",
       "    .dataframe thead th {\n",
       "        text-align: right;\n",
       "    }\n",
       "</style>\n",
       "<table border=\"1\" class=\"dataframe\">\n",
       "  <thead>\n",
       "    <tr style=\"text-align: right;\">\n",
       "      <th></th>\n",
       "      <th>msrp</th>\n",
       "      <th>askPrice</th>\n",
       "      <th>mileage</th>\n",
       "      <th>isNew</th>\n",
       "      <th>brandName</th>\n",
       "      <th>modelName</th>\n",
       "      <th>vf_BodyClass</th>\n",
       "      <th>vf_DisplacementL</th>\n",
       "      <th>vf_Manufacturer</th>\n",
       "      <th>vf_ManufacturerId</th>\n",
       "      <th>vf_ModelID</th>\n",
       "      <th>vf_ModelYear</th>\n",
       "      <th>vf_PlantCountry</th>\n",
       "      <th>comb08</th>\n",
       "      <th>binned_mpg</th>\n",
       "    </tr>\n",
       "  </thead>\n",
       "  <tbody>\n",
       "    <tr>\n",
       "      <th>0</th>\n",
       "      <td>1498</td>\n",
       "      <td>1498</td>\n",
       "      <td>0</td>\n",
       "      <td>False</td>\n",
       "      <td>mitsubishi</td>\n",
       "      <td>eclipse spyder</td>\n",
       "      <td>Convertible/Cabriolet</td>\n",
       "      <td>3.0</td>\n",
       "      <td>MITSUBISHI MOTORS NORTH AMERICA</td>\n",
       "      <td>1054</td>\n",
       "      <td>2321</td>\n",
       "      <td>2002</td>\n",
       "      <td>UNITED STATES (USA)</td>\n",
       "      <td>21.0</td>\n",
       "      <td>4</td>\n",
       "    </tr>\n",
       "    <tr>\n",
       "      <th>1</th>\n",
       "      <td>1498</td>\n",
       "      <td>1498</td>\n",
       "      <td>0</td>\n",
       "      <td>False</td>\n",
       "      <td>mitsubishi</td>\n",
       "      <td>eclipse spyder</td>\n",
       "      <td>Convertible/Cabriolet</td>\n",
       "      <td>3.0</td>\n",
       "      <td>MITSUBISHI MOTORS NORTH AMERICA</td>\n",
       "      <td>1054</td>\n",
       "      <td>2321</td>\n",
       "      <td>2002</td>\n",
       "      <td>UNITED STATES (USA)</td>\n",
       "      <td>20.0</td>\n",
       "      <td>4</td>\n",
       "    </tr>\n",
       "    <tr>\n",
       "      <th>2</th>\n",
       "      <td>1498</td>\n",
       "      <td>1498</td>\n",
       "      <td>0</td>\n",
       "      <td>False</td>\n",
       "      <td>mitsubishi</td>\n",
       "      <td>eclipse spyder</td>\n",
       "      <td>Convertible/Cabriolet</td>\n",
       "      <td>3.0</td>\n",
       "      <td>MITSUBISHI MOTORS NORTH AMERICA</td>\n",
       "      <td>1054</td>\n",
       "      <td>2321</td>\n",
       "      <td>2002</td>\n",
       "      <td>UNITED STATES (USA)</td>\n",
       "      <td>21.0</td>\n",
       "      <td>4</td>\n",
       "    </tr>\n",
       "    <tr>\n",
       "      <th>3</th>\n",
       "      <td>1498</td>\n",
       "      <td>1498</td>\n",
       "      <td>0</td>\n",
       "      <td>False</td>\n",
       "      <td>mitsubishi</td>\n",
       "      <td>eclipse spyder</td>\n",
       "      <td>Convertible/Cabriolet</td>\n",
       "      <td>3.0</td>\n",
       "      <td>MITSUBISHI MOTORS NORTH AMERICA</td>\n",
       "      <td>1054</td>\n",
       "      <td>2321</td>\n",
       "      <td>2002</td>\n",
       "      <td>UNITED STATES (USA)</td>\n",
       "      <td>20.0</td>\n",
       "      <td>4</td>\n",
       "    </tr>\n",
       "    <tr>\n",
       "      <th>4</th>\n",
       "      <td>1998</td>\n",
       "      <td>1498</td>\n",
       "      <td>0</td>\n",
       "      <td>False</td>\n",
       "      <td>mitsubishi</td>\n",
       "      <td>eclipse spyder</td>\n",
       "      <td>Convertible/Cabriolet</td>\n",
       "      <td>3.0</td>\n",
       "      <td>MITSUBISHI MOTORS NORTH AMERICA</td>\n",
       "      <td>1054</td>\n",
       "      <td>2321</td>\n",
       "      <td>2002</td>\n",
       "      <td>UNITED STATES (USA)</td>\n",
       "      <td>21.0</td>\n",
       "      <td>4</td>\n",
       "    </tr>\n",
       "  </tbody>\n",
       "</table>\n",
       "</div>"
      ],
      "text/plain": [
       "   msrp  askPrice  mileage  isNew   brandName       modelName  \\\n",
       "0  1498      1498        0  False  mitsubishi  eclipse spyder   \n",
       "1  1498      1498        0  False  mitsubishi  eclipse spyder   \n",
       "2  1498      1498        0  False  mitsubishi  eclipse spyder   \n",
       "3  1498      1498        0  False  mitsubishi  eclipse spyder   \n",
       "4  1998      1498        0  False  mitsubishi  eclipse spyder   \n",
       "\n",
       "            vf_BodyClass  vf_DisplacementL                  vf_Manufacturer  \\\n",
       "0  Convertible/Cabriolet               3.0  MITSUBISHI MOTORS NORTH AMERICA   \n",
       "1  Convertible/Cabriolet               3.0  MITSUBISHI MOTORS NORTH AMERICA   \n",
       "2  Convertible/Cabriolet               3.0  MITSUBISHI MOTORS NORTH AMERICA   \n",
       "3  Convertible/Cabriolet               3.0  MITSUBISHI MOTORS NORTH AMERICA   \n",
       "4  Convertible/Cabriolet               3.0  MITSUBISHI MOTORS NORTH AMERICA   \n",
       "\n",
       "   vf_ManufacturerId  vf_ModelID  vf_ModelYear      vf_PlantCountry  comb08  \\\n",
       "0               1054        2321          2002  UNITED STATES (USA)    21.0   \n",
       "1               1054        2321          2002  UNITED STATES (USA)    20.0   \n",
       "2               1054        2321          2002  UNITED STATES (USA)    21.0   \n",
       "3               1054        2321          2002  UNITED STATES (USA)    20.0   \n",
       "4               1054        2321          2002  UNITED STATES (USA)    21.0   \n",
       "\n",
       "   binned_mpg  \n",
       "0           4  \n",
       "1           4  \n",
       "2           4  \n",
       "3           4  \n",
       "4           4  "
      ]
     },
     "execution_count": 20,
     "metadata": {},
     "output_type": "execute_result"
    }
   ],
   "source": [
    "comb_df.head()"
   ]
  },
  {
   "cell_type": "code",
   "execution_count": 21,
   "id": "ac6bf0ba-5be1-4d5d-8ef1-7b504959155f",
   "metadata": {},
   "outputs": [],
   "source": [
    "# a little bit of code that lists all of the models for each manufacturer in our dataset :)\n",
    "\n",
    "# for make in comb_df['brandName'].unique():\n",
    "#     print(make, comb_df.loc[comb_df['brandName'] == make]['modelName'].unique(), '\\n')"
   ]
  },
  {
   "cell_type": "markdown",
   "id": "45573a0d-5268-401b-9656-5b783132e4d7",
   "metadata": {},
   "source": [
    "## Modeling (Clustering)\n",
    "What model(s) do you use to try to solve your problem? Why do you choose those model(s)?\n",
    "\n",
    "I will use random forests to predict mpg of a vechile. I believe that engine displacement will have high multicollinearity so I will try it both with and without.   \n",
    "As for clustering: I will be using k-means clustering to add another feature to the dataset in an attempt to increase the accuracy of the random forest model. My goal with this is to see which feature sets are consistently associated with higher mpg values.    \n",
    "---\n",
    "Let us get a baseline model!   \n",
    "1) we'll dummy variable every 'object' field\n",
    "2) standardize our data\n",
    "3) train test split 80/20\n",
    "4) rf with n_estimators = 30\n",
    "5) compute our baseline score"
   ]
  },
  {
   "cell_type": "code",
   "execution_count": 22,
   "id": "93a0d044-1469-4254-9b69-ef0c70977a37",
   "metadata": {},
   "outputs": [],
   "source": [
    "x = comb_df.drop(['comb08','binned_mpg'], axis = 1)\n",
    "y = comb_df['binned_mpg']"
   ]
  },
  {
   "cell_type": "code",
   "execution_count": 23,
   "id": "07368798-ea41-40d7-adcb-ecbd3f808952",
   "metadata": {},
   "outputs": [],
   "source": [
    "dummy_colms = [colm for colm in x.columns if x[colm].dtype == 'object' ] # some fancy list comprehension. Good practice\n",
    "x = pd.get_dummies(data = x, \n",
    "               prefix = 'dummy',\n",
    "               columns = dummy_colms,\n",
    "               drop_first = True\n",
    "              )"
   ]
  },
  {
   "cell_type": "code",
   "execution_count": null,
   "id": "0f2be0df-5961-4636-aaec-3cab8d8a313a",
   "metadata": {},
   "outputs": [],
   "source": [
    "scaler = StandardScaler()\n",
    "scaler.fit(x)\n",
    "x = pd.DataFrame(scaler.transform(x), columns = x.columns)"
   ]
  },
  {
   "cell_type": "code",
   "execution_count": null,
   "id": "f1ebefee-c122-42db-a735-29af421bb773",
   "metadata": {},
   "outputs": [],
   "source": [
    "x"
   ]
  },
  {
   "cell_type": "code",
   "execution_count": null,
   "id": "4cd3b9d3-69a3-486b-a628-13f0d8525f77",
   "metadata": {},
   "outputs": [],
   "source": [
    "train_x, test_x, train_y, test_y = train_test_split(x, y, random_state = 66, train_size = 0.8)"
   ]
  },
  {
   "cell_type": "code",
   "execution_count": null,
   "id": "0c0c0bdd-7586-47f8-8fa3-863919430302",
   "metadata": {},
   "outputs": [],
   "source": [
    "baseline_rf = RandomForestClassifier(n_estimators = 30).fit(train_x,train_y)"
   ]
  },
  {
   "cell_type": "code",
   "execution_count": null,
   "id": "133e87f5-dc89-4de3-9f63-aa574a5adfed",
   "metadata": {},
   "outputs": [],
   "source": [
    "print(baseline_rf.score(test_x, test_y))"
   ]
  },
  {
   "cell_type": "markdown",
   "id": "9b4633a2-e2c4-4a87-94fd-02ff21119a29",
   "metadata": {},
   "source": [
    "90% isn't bad! Let's see if we can improve this with clustering now...   \n",
    "Let's start with finding the optimal number of clusters"
   ]
  },
  {
   "cell_type": "code",
   "execution_count": null,
   "id": "4ad517b0-a35b-4c20-9ac5-044ea6a1dc3a",
   "metadata": {},
   "outputs": [],
   "source": [
    "inertia = []\n",
    "for k in range(1,100, 3):\n",
    "    kmeans = KMeans(n_clusters=k, random_state=1).fit(x)\n",
    "    inertia.append(np.sqrt(kmeans.inertia_))"
   ]
  },
  {
   "cell_type": "code",
   "execution_count": null,
   "id": "786c098e-25e0-4579-a194-bb2e73967f92",
   "metadata": {},
   "outputs": [],
   "source": [
    "plt.plot(range(1, 100,3), inertia, marker='s');\n",
    "plt.xlabel('$k$')\n",
    "plt.ylabel('Variance')"
   ]
  },
  {
   "cell_type": "code",
   "execution_count": null,
   "id": "490792d4-8248-45dc-94b5-fc19cf5154a7",
   "metadata": {},
   "outputs": [],
   "source": [
    "# let's stick with k = 25 for testing\n",
    "k = 25\n",
    "\n",
    "kmeans = KMeans(n_clusters=k, random_state=66).fit(x)"
   ]
  },
  {
   "cell_type": "code",
   "execution_count": null,
   "id": "845bb089-b30d-4bb8-8ce0-41e980fe1204",
   "metadata": {},
   "outputs": [],
   "source": [
    "kmeans_y = kmeans.fit_predict(x)"
   ]
  },
  {
   "cell_type": "code",
   "execution_count": null,
   "id": "0147295c-bb47-49c2-a791-e14453460953",
   "metadata": {},
   "outputs": [],
   "source": [
    "x.head()"
   ]
  },
  {
   "cell_type": "code",
   "execution_count": null,
   "id": "d4338a7f-0e3e-4303-99cc-c8028ef80a83",
   "metadata": {},
   "outputs": [],
   "source": [
    "# what have we done...\n",
    "sns.scatterplot(x=pd.DataFrame(scaler.inverse_transform(x, copy=True),columns=x.columns)['vf_ModelYear'],\n",
    "                y=comb_df['comb08'], \n",
    "                hue=comb_df['brandName'],\n",
    "               palette = sns.color_palette('gist_ncar')\n",
    "               )"
   ]
  },
  {
   "cell_type": "code",
   "execution_count": null,
   "id": "57bd789c-f3f6-4b6e-90e0-4f4204b2c9dd",
   "metadata": {},
   "outputs": [],
   "source": []
  },
  {
   "cell_type": "markdown",
   "id": "d2c4e543-10ec-46d3-97df-c5499d26807d",
   "metadata": {},
   "source": [
    "## Storytelling (Clustering Analysis)\n",
    "Use this section to further analyze your clusters.\n",
    "\n",
    "What information or insights does it tell you? What have you learned? Were you able to answer your initial problems/questions (if so, discuss that)?"
   ]
  },
  {
   "cell_type": "markdown",
   "id": "43f45940-1bbd-4366-849e-9061a7c9d322",
   "metadata": {},
   "source": []
  },
  {
   "cell_type": "markdown",
   "id": "506f3e50-4265-435e-9c2f-ce0cb473d2dc",
   "metadata": {},
   "source": [
    "## Impact Section\n",
    "Discuss the possible impact of your project. This can be socially, ethically, etc. It cannot be something like \"our project has no impact\" or \"our project has no negative impact.\" Even the most well-intentioned projects *could* have a negative impact. We will not be checking for \"right\" or \"wrong\" answers, but showing your critical thinking."
   ]
  },
  {
   "cell_type": "markdown",
   "id": "a2c810be-97f6-4b3c-9c00-e98f7fc21e71",
   "metadata": {},
   "source": []
  },
  {
   "cell_type": "markdown",
   "id": "215df03f-50e8-4037-9c6b-e09547c60e6d",
   "metadata": {},
   "source": [
    "## References\n",
    "Include any references."
   ]
  },
  {
   "cell_type": "markdown",
   "id": "1de037b9-7b39-4821-a559-88c0dbedb05b",
   "metadata": {},
   "source": []
  },
  {
   "cell_type": "markdown",
   "id": "4e9dd91d-f35e-4f74-a10f-a1fa059c7656",
   "metadata": {},
   "source": [
    "## Code\n",
    "Make sure to include your code somehow as well. You can do this in various ways. For example, you can include code snippets throughout your writing and/or include a link to your Jupyter notebook file."
   ]
  }
 ],
 "metadata": {
  "kernelspec": {
   "display_name": "Python [conda env:DataMining] *",
   "language": "python",
   "name": "conda-env-DataMining-py"
  },
  "language_info": {
   "codemirror_mode": {
    "name": "ipython",
    "version": 3
   },
   "file_extension": ".py",
   "mimetype": "text/x-python",
   "name": "python",
   "nbconvert_exporter": "python",
   "pygments_lexer": "ipython3",
   "version": "3.7.13"
  }
 },
 "nbformat": 4,
 "nbformat_minor": 5
}
