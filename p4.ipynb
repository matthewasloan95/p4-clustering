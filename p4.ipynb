{
 "cells": [
  {
   "cell_type": "markdown",
   "id": "d045514a-519b-47bf-87f7-afde8dbc00ba",
   "metadata": {},
   "source": [
    "# Project 4 - Matt Sloan"
   ]
  },
  {
   "cell_type": "markdown",
   "id": "dbd48bd4-223f-4951-8642-fd3707a11b9d",
   "metadata": {},
   "source": [
    "## Introduce the problem\n",
    "Introduce the project. What is the problem you are trying to solve? What questions are you trying to find answer\n",
    "\n",
    "https://www.kaggle.com/datasets/cisautomotiveapi/large-car-dataset/download?datasetVersionNumber=4 (warning: large file)   \n",
    "from \n",
    "https://www.kaggle.com/datasets/cisautomotiveapi/large-car-dataset\n",
    "## Create ipynb template for website -darkmode html command, set low jpg, ignore warnings, default imports numpy pandas traintest"
   ]
  },
  {
   "cell_type": "markdown",
   "id": "5263b508-f6d4-4607-8ddf-c06b6d169ba9",
   "metadata": {},
   "source": [
    "I'm looking to see if there are specific specific features that tend to make vehicles more fuel efficient. We all know that having a smaller engine inherently means higher mpg's... or does it?\n",
    "What other factors tend to be at play here? Does one manufacturer tend to specialize in this? Bonus... what cars tend to have the best price/mpg ratio?"
   ]
  },
  {
   "cell_type": "markdown",
   "id": "79b89035-08dd-4fb2-b30e-9e1b35afa436",
   "metadata": {},
   "source": [
    "## What is clustering and how does it work?\n",
    "Explain what clustering is and how it works (e.g., k-means and/or agglomerative that we have gone over in class)"
   ]
  },
  {
   "cell_type": "markdown",
   "id": "e31e753d-ad01-408a-a102-cdcc776bf1ad",
   "metadata": {},
   "source": [
    "## TODO"
   ]
  },
  {
   "cell_type": "markdown",
   "id": "26c37a03-fbaf-438a-92fe-607f2575e77f",
   "metadata": {},
   "source": [
    "## Introduce the data\n",
    "Where did you find it? What is the data about (include links)? What are the features (with additional explanations if not already self-explanatory from the name itself)?"
   ]
  },
  {
   "cell_type": "markdown",
   "id": "adc11ef1-145b-45ee-bf87-46313cdcce15",
   "metadata": {},
   "source": [
    "I was looking for mpg data for vehicles that was also paired with msrp. I almost took the [dataset from fueleconomy.gov](https://fueleconomy.gov/feg/download.shtml) until I found [this... 5gb dataset from kaggle.](https://www.kaggle.com/datasets/cisautomotiveapi/large-car-dataset)   \n",
    "It appears to be a sample of AutoDealerData.com of vehicle listings from Illinois from June 2018 until 2020.   \n",
    "I will probably remove duplicates in an attempt to save my RAM from annihilation.   \n",
    "This dataset has 156 features and ~5.7 million entries.\n",
    "The features that I am most interested in are:   \n",
    "* msrp\n",
    "* brandName\n",
    "* modelName\n",
    "* bodyClass\n",
    "* DisplacementCC\n",
    "* Doors\n",
    "* DriveType\n",
    "* EngineCylcinders\n",
    "* EngineManufacturer\n",
    "* MakeID\n",
    "* Manufacturer\n",
    "* Model\n",
    "* ModelYear\n",
    "* Turbo\n",
    "* TransissionSpeeds\n",
    "* TransmissionStyle   \n",
    "However I will be utilizing most of the remaining features as well."
   ]
  },
  {
   "cell_type": "markdown",
   "id": "1b302852-892f-49b3-bc50-91cce212ee6f",
   "metadata": {},
   "source": [
    "## Data Understanding/Visualization\n",
    "Use methods to try to further understand and visualize the data. Make sure to remember your initial problems/questions when completing this step.\n",
    "While exploring, does anything else stand out to you (perhaps any surprising insights?)\n",
    "\n",
    "**How does this step relate to your modeling?**"
   ]
  },
  {
   "cell_type": "markdown",
   "id": "66a07f77-e07b-4e12-85de-708dbf7db151",
   "metadata": {},
   "source": [
    "Let us start out by loading the file."
   ]
  },
  {
   "cell_type": "code",
   "execution_count": 17,
   "id": "5f546751-68ef-4463-a6ad-3fb5d069df1d",
   "metadata": {},
   "outputs": [],
   "source": [
    "## Very incomplete...not even actually started\n",
    "\n",
    "import pandas as pd\n",
    "import numpy as np"
   ]
  },
  {
   "cell_type": "code",
   "execution_count": null,
   "id": "81709173-21c7-4b9e-9059-6c569dae7ffa",
   "metadata": {},
   "outputs": [],
   "source": [
    "# df = pd.read_csv('data/archive/CIS_Automotive_Kaggle_Sample.csv', engine: {'pyarrow'})"
   ]
  },
  {
   "cell_type": "markdown",
   "id": "635542ca-2a39-4581-aa8b-c3609be8323f",
   "metadata": {},
   "source": [
    "Yeah so this absolutely decimates my remaining available RAM. We're gonna have to take this down a notch.   \n",
    "Perhaps we load this in chunks and remove duplicate vehicles as we find them.   \n",
    "I also want to set proper dtypes so that they're not all 'objects.'"
   ]
  },
  {
   "cell_type": "code",
   "execution_count": null,
   "id": "7388103f-59db-4b98-908c-f818e0df61c3",
   "metadata": {},
   "outputs": [],
   "source": [
    "nrows = 10000\n",
    "df = pd.DataFrame()\n",
    "temp_df = pd.DataFrame()\n",
    "for totalrows in range(0, int(6e6), nrows):\n",
    "    temp_df = pd.read_csv('data/archive/CIS_Automotive_Kaggle_Sample.csv',\n",
    "                          nrows = nrows,\n",
    "                         skiprows = totalrows,\n",
    "                          names= [color',\n",
    "                                brandName',\n",
    "                                modelName',\n",
    "                                vf_BodyClass',\n",
    "                                vf_FuelInjectionType',\n",
    "                                vf_Make',\n",
    "                                vf_Manufacturer',\n",
    "                                vf_Model\n",
    "                                vf_PlantCity\n",
    "                                vf_PlantCompanyName\n",
    "                                vf_PlantCountry\n",
    "                                vf_PlantState\n",
    "                                vf_Series\n",
    "                                vf_Series2\n",
    "                                vf_TransmissionSpeeds\n",
    "                                vf_TransmissionStyle\n",
    "                                vf_Trim\n",
    "                                vf_Trim2\n",
    "                                vf_Turbo\n",
    "                                'msrp',\n",
    "                                'askPrice',\n",
    "                                'mileage',\n",
    "                                'isNew',\n",
    "                                'vf_CurbWeightLB',\n",
    "                                'vf_DisplacementCC',\n",
    "                                'vf_DisplacementCI',\n",
    "                                'vf_DisplacementL',\n",
    "                                'vf_Doors',\n",
    "                                'vf_MakeID',\n",
    "                                'vf_ManufacturerId',\n",
    "                                'vf_ModelID',\n",
    "                                'vf_ModelYear'],\n",
    "                                dtype = {\n",
    "                                'msrp' : np.int32,\n",
    "                                'askPrice' : np.int32,\n",
    "                                'mileage' : np.int32,\n",
    "                                'isNew' : bool,\n",
    "                                'vf_CurbWeightLB' : np.int32,\n",
    "                                'vf_DisplacementCC' : np.float32,\n",
    "                                'vf_DisplacementCI' : np.float32,\n",
    "                                'vf_DisplacementL' : np.float32,\n",
    "                                'vf_Doors' : np.float32,\n",
    "                                'vf_MakeID' : np.int32,\n",
    "                                'vf_ManufacturerId' : np.int32,\n",
    "                                'vf_ModelID' : np.int32,\n",
    "                                'vf_ModelYear' : np.int32\n",
    "                                    }\n",
    "                         )\n",
    "    df = pd.concat([df,temp_df], axis=1)"
   ]
  },
  {
   "cell_type": "code",
   "execution_count": 75,
   "id": "9ba28edb-de29-4cb1-b437-f7c64bff82df",
   "metadata": {},
   "outputs": [
    {
     "name": "stdout",
     "output_type": "stream",
     "text": [
      "vin \t\t\t abc5f0360059cf7b6fa8368db57f220ab0d87d582bf6ce3af0571c7d48b759ca\n",
      "stockNum \t\t\t 11701A\n",
      "firstSeen \t\t\t 2019-05-06\n",
      "lastSeen \t\t\t 2019-05-06\n",
      "msrp \t\t\t 1498\n",
      "askPrice \t\t\t 1498\n",
      "mileage \t\t\t 0\n",
      "isNew \t\t\t False\n",
      "color \t\t\t Gray\n",
      "interiorColor \t\t\t nan\n",
      "brandName \t\t\t MITSUBISHI\n",
      "modelName \t\t\t Eclipse Spyder\n",
      "dealerID \t\t\t 7514\n",
      "vf_ABS \t\t\t nan\n",
      "vf_ActiveSafetySysNote \t\t\t nan\n",
      "vf_AdaptiveCruiseControl \t\t\t nan\n",
      "vf_AdaptiveDrivingBeam \t\t\t nan\n",
      "vf_AdaptiveHeadlights \t\t\t nan\n",
      "vf_AdditionalErrorText \t\t\t nan\n",
      "vf_AirBagLocCurtain \t\t\t nan\n",
      "vf_AirBagLocFront \t\t\t 1st Row (Driver & Passenger)\n",
      "vf_AirBagLocKnee \t\t\t nan\n",
      "vf_AirBagLocSeatCushion \t\t\t nan\n",
      "vf_AirBagLocSide \t\t\t nan\n",
      "vf_AutoReverseSystem \t\t\t nan\n",
      "vf_AutomaticPedestrianAlertingSound \t\t\t nan\n",
      "vf_AxleConfiguration \t\t\t nan\n",
      "vf_Axles \t\t\t nan\n",
      "vf_BasePrice \t\t\t nan\n",
      "vf_BatteryA \t\t\t nan\n",
      "vf_BatteryA_to \t\t\t nan\n",
      "vf_BatteryCells \t\t\t nan\n",
      "vf_BatteryInfo \t\t\t nan\n",
      "vf_BatteryKWh \t\t\t nan\n",
      "vf_BatteryKWh_to \t\t\t nan\n",
      "vf_BatteryModules \t\t\t nan\n",
      "vf_BatteryPacks \t\t\t nan\n",
      "vf_BatteryType \t\t\t nan\n",
      "vf_BatteryV \t\t\t nan\n",
      "vf_BatteryV_to \t\t\t nan\n",
      "vf_BedLengthIN \t\t\t nan\n",
      "vf_BedType \t\t\t Not Applicable\n",
      "vf_BlindSpotMon \t\t\t nan\n",
      "vf_BodyCabType \t\t\t Not Applicable\n",
      "vf_BodyClass \t\t\t Convertible/Cabriolet\n",
      "vf_BrakeSystemDesc \t\t\t nan\n",
      "vf_BrakeSystemType \t\t\t nan\n",
      "vf_BusFloorConfigType \t\t\t Not Applicable\n",
      "vf_BusLength \t\t\t nan\n",
      "vf_BusType \t\t\t Not Applicable\n",
      "vf_CAN_AACN \t\t\t nan\n",
      "vf_CIB \t\t\t nan\n",
      "vf_CashForClunkers \t\t\t nan\n",
      "vf_ChargerLevel \t\t\t nan\n",
      "vf_ChargerPowerKW \t\t\t nan\n",
      "vf_CoolingType \t\t\t nan\n",
      "vf_CurbWeightLB \t\t\t nan\n",
      "vf_CustomMotorcycleType \t\t\t Not Applicable\n",
      "vf_DaytimeRunningLight \t\t\t nan\n",
      "vf_DestinationMarket \t\t\t nan\n",
      "vf_DisplacementCC \t\t\t 3000.0\n",
      "vf_DisplacementCI \t\t\t 183.07123228419\n",
      "vf_DisplacementL \t\t\t 3.0\n",
      "vf_Doors \t\t\t 2.0\n",
      "vf_DriveType \t\t\t nan\n",
      "vf_DriverAssist \t\t\t nan\n",
      "vf_DynamicBrakeSupport \t\t\t nan\n",
      "vf_EDR \t\t\t nan\n",
      "vf_ESC \t\t\t nan\n",
      "vf_EVDriveUnit \t\t\t nan\n",
      "vf_ElectrificationLevel \t\t\t nan\n",
      "vf_EngineConfiguration \t\t\t nan\n",
      "vf_EngineCycles \t\t\t nan\n",
      "vf_EngineCylinders \t\t\t nan\n",
      "vf_EngineHP \t\t\t nan\n",
      "vf_EngineHP_to \t\t\t nan\n",
      "vf_EngineKW \t\t\t nan\n",
      "vf_EngineManufacturer \t\t\t nan\n",
      "vf_EngineModel \t\t\t nan\n",
      "vf_EntertainmentSystem \t\t\t nan\n",
      "vf_ForwardCollisionWarning \t\t\t nan\n",
      "vf_FuelInjectionType \t\t\t Multipoint Fuel Injection (MPFI)\n",
      "vf_FuelTypePrimary \t\t\t nan\n",
      "vf_FuelTypeSecondary \t\t\t nan\n",
      "vf_GCWR \t\t\t nan\n",
      "vf_GCWR_to \t\t\t nan\n",
      "vf_GVWR \t\t\t nan\n",
      "vf_GVWR_to \t\t\t nan\n",
      "vf_KeylessIgnition \t\t\t nan\n",
      "vf_LaneDepartureWarning \t\t\t nan\n",
      "vf_LaneKeepSystem \t\t\t nan\n",
      "vf_LowerBeamHeadlampLightSource \t\t\t nan\n",
      "vf_Make \t\t\t MITSUBISHI\n",
      "vf_MakeID \t\t\t 481.0\n",
      "vf_Manufacturer \t\t\t MITSUBISHI MOTORS NORTH AMERICA\n",
      "vf_ManufacturerId \t\t\t 1054.0\n",
      "vf_Model \t\t\t Eclipse Spyder\n",
      "vf_ModelID \t\t\t 2321.0\n",
      "vf_ModelYear \t\t\t 2002.0\n",
      "vf_MotorcycleChassisType \t\t\t Not Applicable\n",
      "vf_MotorcycleSuspensionType \t\t\t Not Applicable\n",
      "vf_NCSABodyType \t\t\t nan\n",
      "vf_NCSAMake \t\t\t nan\n",
      "vf_NCSAMapExcApprovedBy \t\t\t nan\n",
      "vf_NCSAMapExcApprovedOn \t\t\t nan\n",
      "vf_NCSAMappingException \t\t\t nan\n",
      "vf_NCSAModel \t\t\t nan\n",
      "vf_NCSANote \t\t\t nan\n",
      "vf_Note \t\t\t nan\n",
      "vf_OtherBusInfo \t\t\t nan\n",
      "vf_OtherEngineInfo \t\t\t MPI\n",
      "vf_OtherMotorcycleInfo \t\t\t nan\n",
      "vf_OtherRestraintSystemInfo \t\t\t nan\n",
      "vf_OtherTrailerInfo \t\t\t nan\n",
      "vf_ParkAssist \t\t\t nan\n",
      "vf_PedestrianAutomaticEmergencyBraking \t\t\t nan\n",
      "vf_PlantCity \t\t\t BLOOMINGTON-NORMAL\n",
      "vf_PlantCompanyName \t\t\t nan\n",
      "vf_PlantCountry \t\t\t UNITED STATES (USA)\n",
      "vf_PlantState \t\t\t ILLINOIS\n",
      "vf_PossibleValues \t\t\t nan\n",
      "vf_Pretensioner \t\t\t nan\n",
      "vf_RearCrossTrafficAlert \t\t\t nan\n",
      "vf_RearVisibilitySystem \t\t\t nan\n",
      "vf_SAEAutomationLevel \t\t\t nan\n",
      "vf_SAEAutomationLevel_to \t\t\t nan\n",
      "vf_SeatBeltsAll \t\t\t Manual\n",
      "vf_SeatRows \t\t\t nan\n",
      "vf_Seats \t\t\t nan\n",
      "vf_SemiautomaticHeadlampBeamSwitching \t\t\t nan\n",
      "vf_Series \t\t\t SPORTS\n",
      "vf_Series2 \t\t\t nan\n",
      "vf_SteeringLocation \t\t\t nan\n",
      "vf_SuggestedVIN \t\t\t nan\n",
      "vf_TPMS \t\t\t nan\n",
      "vf_TopSpeedMPH \t\t\t nan\n",
      "vf_TrackWidth \t\t\t nan\n",
      "vf_TractionControl \t\t\t nan\n",
      "vf_TrailerBodyType \t\t\t Not Applicable\n",
      "vf_TrailerLength \t\t\t nan\n",
      "vf_TrailerType \t\t\t Not Applicable\n",
      "vf_TransmissionSpeeds \t\t\t nan\n",
      "vf_TransmissionStyle \t\t\t nan\n",
      "vf_Trim \t\t\t nan\n",
      "vf_Trim2 \t\t\t nan\n",
      "vf_Turbo \t\t\t nan\n",
      "vf_VIN \t\t\t abc5f0360059cf7b6fa8368db57f220ab0d87d582bf6ce3af0571c7d48b759ca\n",
      "vf_ValveTrainDesign \t\t\t nan\n",
      "vf_VehicleType \t\t\t PASSENGER CAR\n",
      "vf_WheelBaseLong \t\t\t nan\n",
      "vf_WheelBaseShort \t\t\t nan\n",
      "vf_WheelBaseType \t\t\t nan\n",
      "vf_WheelSizeFront \t\t\t nan\n",
      "vf_WheelSizeRear \t\t\t nan\n",
      "vf_Wheels \t\t\t nan\n",
      "vf_Windows \t\t\t nan\n"
     ]
    }
   ],
   "source": [
    "for col in df.columns:\n",
    "    uniques = pd.Series(df[col].unique())\n",
    "    uniques = uniques.dropna()\n",
    "    print(col, '\\t\\t\\t', df[col].unique()[0] if len(df[col].unique()) > 0 else df[col].unique())\n",
    "\n",
    "color\n",
    "brandName\n",
    "modelName \n",
    "vf_BodyClass\n",
    "vf_FuelInjectionType\n",
    "vf_Make\n",
    "vf_Manufacturer\n",
    "vf_Model\n",
    "vf_PlantCity\n",
    "vf_PlantCompanyName\n",
    "vf_PlantCountry\n",
    "vf_PlantState\n",
    "vf_Series\n",
    "vf_Series2\n",
    "vf_TransmissionSpeeds\n",
    "vf_TransmissionStyle\n",
    "vf_Trim\n",
    "vf_Trim2\n",
    "vf_Turbo\n",
    "\n",
    "    dtype = {\n",
    "'msrp' : np.int32,\n",
    "'askPrice' : np.int32,\n",
    "'mileage' : np.int32,\n",
    "'isNew' : bool,\n",
    "'vf_CurbWeightLB' : np.int32,\n",
    "'vf_DisplacementCC' : np.float32,\n",
    "'vf_DisplacementCI' : np.float32,\n",
    "'vf_DisplacementL' : np.float32,\n",
    "'vf_Doors' : np.float32,\n",
    "'vf_MakeID' : np.int32,\n",
    "'vf_ManufacturerId' : np.int32,\n",
    "'vf_ModelID' : np.int32,\n",
    "'vf_ModelYear' : np.int32\n",
    "    }\n",
    "\n",
    "\n"
   ]
  },
  {
   "cell_type": "code",
   "execution_count": null,
   "id": "6f8dc0c1-0dfe-47de-8db2-ebf04f7ec695",
   "metadata": {},
   "outputs": [],
   "source": []
  },
  {
   "cell_type": "markdown",
   "id": "24a82357-efa7-4daa-a8cd-b4d3dad53214",
   "metadata": {},
   "source": [
    "## Pre-processing the data\n",
    "What pre-processing steps do you follow? Explain why you do each pre-processing step."
   ]
  },
  {
   "cell_type": "markdown",
   "id": "ae58c185-0724-4bf6-aea4-ab8c9d04809d",
   "metadata": {},
   "source": []
  },
  {
   "cell_type": "markdown",
   "id": "45573a0d-5268-401b-9656-5b783132e4d7",
   "metadata": {},
   "source": [
    "## Modeling (Clustering)\n",
    "What model(s) do you use to try to solve your problem? Why do you choose those model(s)?\n",
    "\n",
    "For example, why choose k-means over agglomerative, or vice versa? Or perhaps experiment with both and discuss the pros/cons of each? You may also try experimenting with other methods of clustering not discussed in class."
   ]
  },
  {
   "cell_type": "markdown",
   "id": "02808e61-c770-490d-9667-3b9883d22f00",
   "metadata": {},
   "source": []
  },
  {
   "cell_type": "markdown",
   "id": "d2c4e543-10ec-46d3-97df-c5499d26807d",
   "metadata": {},
   "source": [
    "## Storytelling (Clustering Analysis)\n",
    "Use this section to further analyze your clusters.\n",
    "\n",
    "What information or insights does it tell you? What have you learned? Were you able to answer your initial problems/questions (if so, discuss that)?"
   ]
  },
  {
   "cell_type": "markdown",
   "id": "43f45940-1bbd-4366-849e-9061a7c9d322",
   "metadata": {},
   "source": []
  },
  {
   "cell_type": "markdown",
   "id": "506f3e50-4265-435e-9c2f-ce0cb473d2dc",
   "metadata": {},
   "source": [
    "## Impact Section\n",
    "Discuss the possible impact of your project. This can be socially, ethically, etc. It cannot be something like \"our project has no impact\" or \"our project has no negative impact.\" Even the most well-intentioned projects *could* have a negative impact. We will not be checking for \"right\" or \"wrong\" answers, but showing your critical thinking."
   ]
  },
  {
   "cell_type": "markdown",
   "id": "a2c810be-97f6-4b3c-9c00-e98f7fc21e71",
   "metadata": {},
   "source": []
  },
  {
   "cell_type": "markdown",
   "id": "215df03f-50e8-4037-9c6b-e09547c60e6d",
   "metadata": {},
   "source": [
    "## References\n",
    "Include any references."
   ]
  },
  {
   "cell_type": "markdown",
   "id": "1de037b9-7b39-4821-a559-88c0dbedb05b",
   "metadata": {},
   "source": []
  },
  {
   "cell_type": "markdown",
   "id": "4e9dd91d-f35e-4f74-a10f-a1fa059c7656",
   "metadata": {},
   "source": [
    "## Code\n",
    "Make sure to include your code somehow as well. You can do this in various ways. For example, you can include code snippets throughout your writing and/or include a link to your Jupyter notebook file."
   ]
  }
 ],
 "metadata": {
  "kernelspec": {
   "display_name": "Python [conda env:DataMining] *",
   "language": "python",
   "name": "conda-env-DataMining-py"
  },
  "language_info": {
   "codemirror_mode": {
    "name": "ipython",
    "version": 3
   },
   "file_extension": ".py",
   "mimetype": "text/x-python",
   "name": "python",
   "nbconvert_exporter": "python",
   "pygments_lexer": "ipython3",
   "version": "3.9.13"
  }
 },
 "nbformat": 4,
 "nbformat_minor": 5
}
