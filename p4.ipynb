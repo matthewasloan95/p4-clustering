{
 "cells": [
  {
   "cell_type": "markdown",
   "id": "d045514a-519b-47bf-87f7-afde8dbc00ba",
   "metadata": {},
   "source": [
    "# Project 4 - Matt Sloan"
   ]
  },
  {
   "cell_type": "markdown",
   "id": "dbd48bd4-223f-4951-8642-fd3707a11b9d",
   "metadata": {},
   "source": [
    "## Introduce the problem\n",
    "Introduce the project. What is the problem you are trying to solve? What questions are you trying to find answer\n",
    "\n",
    "https://www.kaggle.com/datasets/cisautomotiveapi/large-car-dataset/download?datasetVersionNumber=4\n",
    "## Create ipynb template for website -darkmode html command, set low jpg, ignore warnings, default imports numpy pandas traintest"
   ]
  },
  {
   "cell_type": "markdown",
   "id": "5263b508-f6d4-4607-8ddf-c06b6d169ba9",
   "metadata": {},
   "source": []
  },
  {
   "cell_type": "markdown",
   "id": "79b89035-08dd-4fb2-b30e-9e1b35afa436",
   "metadata": {},
   "source": [
    "## What is clustering and how does it work?\n",
    "Explain what clustering is and how it works (e.g., k-means and/or agglomerative that we have gone over in class)"
   ]
  },
  {
   "cell_type": "markdown",
   "id": "e31e753d-ad01-408a-a102-cdcc776bf1ad",
   "metadata": {},
   "source": []
  },
  {
   "cell_type": "markdown",
   "id": "26c37a03-fbaf-438a-92fe-607f2575e77f",
   "metadata": {},
   "source": [
    "## Introduce the data\n",
    "Where did you find it? What is the data about (include links)? What are the features (with additional explanations if not already self-explanatory from the name itself)?"
   ]
  },
  {
   "cell_type": "markdown",
   "id": "adc11ef1-145b-45ee-bf87-46313cdcce15",
   "metadata": {},
   "source": []
  },
  {
   "cell_type": "markdown",
   "id": "1b302852-892f-49b3-bc50-91cce212ee6f",
   "metadata": {},
   "source": [
    "## Data Understanding/Visualization\n",
    "Use methods to try to further understand and visualize the data. Make sure to remember your initial problems/questions when completing this step.\n",
    "While exploring, does anything else stand out to you (perhaps any surprising insights?)\n",
    "\n",
    "**How does this step relate to your modeling?**"
   ]
  },
  {
   "cell_type": "markdown",
   "id": "66a07f77-e07b-4e12-85de-708dbf7db151",
   "metadata": {},
   "source": []
  },
  {
   "cell_type": "markdown",
   "id": "24a82357-efa7-4daa-a8cd-b4d3dad53214",
   "metadata": {},
   "source": [
    "## Pre-processing the data\n",
    "What pre-processing steps do you follow? Explain why you do each pre-processing step."
   ]
  },
  {
   "cell_type": "markdown",
   "id": "ae58c185-0724-4bf6-aea4-ab8c9d04809d",
   "metadata": {},
   "source": []
  },
  {
   "cell_type": "markdown",
   "id": "45573a0d-5268-401b-9656-5b783132e4d7",
   "metadata": {},
   "source": [
    "## Modeling (Clustering)\n",
    "What model(s) do you use to try to solve your problem? Why do you choose those model(s)?\n",
    "\n",
    "For example, why choose k-means over agglomerative, or vice versa? Or perhaps experiment with both and discuss the pros/cons of each? You may also try experimenting with other methods of clustering not discussed in class."
   ]
  },
  {
   "cell_type": "markdown",
   "id": "02808e61-c770-490d-9667-3b9883d22f00",
   "metadata": {},
   "source": []
  },
  {
   "cell_type": "markdown",
   "id": "d2c4e543-10ec-46d3-97df-c5499d26807d",
   "metadata": {},
   "source": [
    "## Storytelling (Clustering Analysis)\n",
    "Use this section to further analyze your clusters.\n",
    "\n",
    "What information or insights does it tell you? What have you learned? Were you able to answer your initial problems/questions (if so, discuss that)?"
   ]
  },
  {
   "cell_type": "markdown",
   "id": "43f45940-1bbd-4366-849e-9061a7c9d322",
   "metadata": {},
   "source": []
  },
  {
   "cell_type": "markdown",
   "id": "506f3e50-4265-435e-9c2f-ce0cb473d2dc",
   "metadata": {},
   "source": [
    "## Impact Section\n",
    "Discuss the possible impact of your project. This can be socially, ethically, etc. It cannot be something like \"our project has no impact\" or \"our project has no negative impact.\" Even the most well-intentioned projects *could* have a negative impact. We will not be checking for \"right\" or \"wrong\" answers, but showing your critical thinking."
   ]
  },
  {
   "cell_type": "markdown",
   "id": "a2c810be-97f6-4b3c-9c00-e98f7fc21e71",
   "metadata": {},
   "source": []
  },
  {
   "cell_type": "markdown",
   "id": "215df03f-50e8-4037-9c6b-e09547c60e6d",
   "metadata": {},
   "source": [
    "## References\n",
    "Include any references."
   ]
  },
  {
   "cell_type": "markdown",
   "id": "1de037b9-7b39-4821-a559-88c0dbedb05b",
   "metadata": {},
   "source": []
  },
  {
   "cell_type": "markdown",
   "id": "4e9dd91d-f35e-4f74-a10f-a1fa059c7656",
   "metadata": {},
   "source": [
    "## Code\n",
    "Make sure to include your code somehow as well. You can do this in various ways. For example, you can include code snippets throughout your writing and/or include a link to your Jupyter notebook file."
   ]
  }
 ],
 "metadata": {
  "kernelspec": {
   "display_name": "Python [conda env:DataMining] *",
   "language": "python",
   "name": "conda-env-DataMining-py"
  },
  "language_info": {
   "codemirror_mode": {
    "name": "ipython",
    "version": 3
   },
   "file_extension": ".py",
   "mimetype": "text/x-python",
   "name": "python",
   "nbconvert_exporter": "python",
   "pygments_lexer": "ipython3",
   "version": "3.9.13"
  }
 },
 "nbformat": 4,
 "nbformat_minor": 5
}
